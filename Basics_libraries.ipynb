{
 "cells": [
  {
   "cell_type": "markdown",
   "metadata": {},
   "source": [
    "### A set of numpy exercises"
   ]
  },
  {
   "cell_type": "code",
   "execution_count": 1,
   "metadata": {},
   "outputs": [],
   "source": [
    "import numpy as np"
   ]
  },
  {
   "cell_type": "markdown",
   "metadata": {},
   "source": [
    "Write a function that takes in a vector and returns a new vector where\n",
    "every element is separated by 4 consecutive zeros.\n",
    "\n",
    "Example:\n",
    "[4, 2, 1] --> [4, 0, 0, 0, 0, 2, 0, 0, 0, 0, 1]\n",
    "\n",
    "* param x: input vector\n",
    "* type x: numpy.array\n",
    "* return: input vector with elements separated by 4 zeros\n",
    "* rtype: numpy.array"
   ]
  },
  {
   "cell_type": "code",
   "execution_count": 2,
   "metadata": {},
   "outputs": [
    {
     "data": {
      "text/plain": [
       "array([4., 0., 0., 0., 0., 2., 0., 0., 0., 0., 1.])"
      ]
     },
     "execution_count": 2,
     "metadata": {},
     "output_type": "execute_result"
    }
   ],
   "source": [
    "def zero_insert(x):\n",
    "    if np.any(x):\n",
    "        zeros = np.zeros(4)\n",
    "        dim = x.shape\n",
    "        vec = [np.append(x[i], zeros) for i in range(0, dim[0] - 1)]\n",
    "        vec = np.append(vec, x[dim[0] - 1])\n",
    "        return vec\n",
    "    else:\n",
    "        vec = x\n",
    "        return vec\n",
    "\n",
    "x = np.array([4, 2, 1])\n",
    "zero_insert(x)"
   ]
  },
  {
   "cell_type": "markdown",
   "metadata": {},
   "source": [
    "Write a function that takes in a vector and returns the value contained in the vector that is closest to a given value. If two values are equidistant from val, return the one that comes first in\n",
    "the vector.\n",
    "\n",
    "Example:\n",
    "([3, 4, 5], 2) --> 3\n",
    "\n",
    "* param x: input vector\n",
    "* type x: numpy.array of int/float\n",
    "* param val: input value\n",
    "* type val: int | float\n",
    "* return: value from x closest to val\n",
    "* rtype: int | float\n",
    "* raise ValueError:"
   ]
  },
  {
   "cell_type": "code",
   "execution_count": 3,
   "metadata": {},
   "outputs": [
    {
     "data": {
      "text/plain": [
       "3"
      ]
     },
     "execution_count": 3,
     "metadata": {},
     "output_type": "execute_result"
    }
   ],
   "source": [
    "def return_closest(x, val):\n",
    "    dif = np.abs(x - val)\n",
    "    val_clo = dif.argmin()\n",
    "    elem = x[val_clo]\n",
    "    return elem\n",
    "\n",
    "x = np.array([3, 4, 5])\n",
    "val = 2\n",
    "return_closest(x, val)"
   ]
  },
  {
   "cell_type": "markdown",
   "metadata": {},
   "source": [
    "Write a function that takes in two vectors and returns the associated Cauchy\n",
    "matrix with entries a_ij = 1/(x_i-y_j).\n",
    "\n",
    "Example:\n",
    "([1, 2], [3, 4]) --> [[-1/2, -1/3], [-1, -1/2]]\n",
    "\n",
    "Note: the function should raise an error of type ValueError if there is a pair (i,j) such that x_i=y_j\n",
    "\n",
    "* param x: input vector\n",
    "* type x: numpy.array of int/float\n",
    "* param y: input vector\n",
    "* type y: numpy.array of int/float\n",
    "* return: Cauchy matrix with entries 1/(x_i-y_j)\n",
    "* rtype: numpy.array of float\n",
    "* raise ValueError:"
   ]
  },
  {
   "cell_type": "code",
   "execution_count": 4,
   "metadata": {},
   "outputs": [
    {
     "data": {
      "text/plain": [
       "array([[-0.5       , -0.33333333],\n",
       "       [-1.        , -0.5       ]])"
      ]
     },
     "execution_count": 4,
     "metadata": {},
     "output_type": "execute_result"
    }
   ],
   "source": [
    "def cauchy(x, y):\n",
    "    error = 0\n",
    "    if np.any(x):\n",
    "        for i in np.nditer(x):\n",
    "            for j in np.nditer(y):\n",
    "                if i == j or i == 0 or j == 0:\n",
    "                    error = 1\n",
    "                    break\n",
    "        if error == 0:\n",
    "            x = x.reshape((-1, 1))  # -1 = transpose\n",
    "            diff = x - y\n",
    "            cauchy_matrix = 1/diff\n",
    "            return cauchy_matrix\n",
    "        else:\n",
    "            return ValueError('There is a pair (i, j)')\n",
    "    else:\n",
    "        return np.empty([0, 0])\n",
    "\n",
    "x = np.array([1, 2])\n",
    "y = np.array([3, 4])\n",
    "cauchy(x, y)"
   ]
  },
  {
   "cell_type": "markdown",
   "metadata": {},
   "source": [
    "Write a function that takes in a vector x and a list of vectors and finds,\n",
    "in the list, the index of the vector that is most similar to x using\n",
    "cosine similarity.\n",
    "\n",
    "Example:\n",
    "([1, 1], [[1, 0.9], [-1, 1]]) --> 0 (corresponding to [1,0.9])\n",
    "\n",
    "* param x: input vector\n",
    "* type x: numpy.array of int/float\n",
    "* param v_list: list of vectors\n",
    "* type v_list: list of numpy.array\n",
    "* return: index of element in list that is closest to x in cosine-sim\n",
    "* rtype: int"
   ]
  },
  {
   "cell_type": "code",
   "execution_count": 5,
   "metadata": {},
   "outputs": [
    {
     "data": {
      "text/plain": [
       "0"
      ]
     },
     "execution_count": 5,
     "metadata": {},
     "output_type": "execute_result"
    }
   ],
   "source": [
    "def most_similar(x, v_list):\n",
    "\n",
    "    inner = [x @ v_list[row]/np.sqrt(x @ x*v_list[row] @ v_list[row]) for row in range(len(v_list))]\n",
    "    index_elem = np.argmax(inner)\n",
    "    return index_elem\n",
    "\n",
    "x = np.array([1, 1])\n",
    "v_list = np.array([[1, 0.9],[-1, 1]])\n",
    "most_similar(x, v_list)"
   ]
  },
  {
   "cell_type": "markdown",
   "metadata": {},
   "source": [
    "Write a function that does gradient descent with a fixed learning_rate on function f with gradient g and stops when the update has magnitude under a given tolerance level (i.e. when |xk-x(k-1)| < tol).\n",
    "Return a tuple with the position, the value of f at that position and the magnitude of the last update.\n",
    "* h(x) = (x-1)^2 + exp(-x^2/2)\n",
    "* f(x) = log(h(x))\n",
    "* g(x) = (2(x-1) - x exp(-x^2/2)) / h(x)\n",
    "\n",
    "Example:\n",
    "(1.0, 0.1, 1e-3) --> approximately (1.2807, -0.6555, 0.0008)\n",
    "\n",
    "* param x_0: initial point\n",
    "* type x_0: float\n",
    "* param learning_rate: fixed learning_rate\n",
    "* type learning_rate: float\n",
    "* param tol: tolerance for the magnitude of the update\n",
    "* type tol: float\n",
    "* return: the position, the value at that position and the latest update\n",
    "* rtype: tuple of three float"
   ]
  },
  {
   "cell_type": "code",
   "execution_count": 6,
   "metadata": {},
   "outputs": [
    {
     "data": {
      "text/plain": [
       "(1.2807049030422724, -0.6555012751335543, 0.0008917935976979763)"
      ]
     },
     "execution_count": 6,
     "metadata": {},
     "output_type": "execute_result"
    }
   ],
   "source": [
    "def gradient_descent(x_0, learning_rate, tol):\n",
    "    def h(x): return (x-1)**2 + np.exp(-x**2/2)\n",
    "    def f(x): return np.log(h(x))\n",
    "    def g(x): return (2*(x-1)- x*np.exp((-x**2)/2))/h(x)\n",
    "    x_current = x_0\n",
    "    prev_step = learning_rate\n",
    "    while prev_step > tol:\n",
    "        x_previous = x_current\n",
    "        x_current -= learning_rate*g(x_previous)\n",
    "        prev_step = abs(x_current - x_previous)\n",
    "    return ((x_current, f(x_current),prev_step))\n",
    "\n",
    "x_0 = 1\n",
    "learning_rate = 0.1\n",
    "tol = 1e-3\n",
    "gradient_descent(x_0, learning_rate, tol)"
   ]
  },
  {
   "cell_type": "markdown",
   "metadata": {},
   "source": [
    "\n",
    "    Write a function to determine if a string is only made of unique\n",
    "    characters and returns True if that's the case, False otherwise.\n",
    "    Upper case and lower case should be considered as the same character.\n",
    "\n",
    "    Example:\n",
    "    \"qwr#!\" --> True, \"q Qdf\" --> False\n",
    "\n",
    "    :param string: input string\n",
    "    :type string:  string\n",
    "    :return:      true or false if string is made of unique characters\n",
    "    :rtype:        bool\n",
    "    \"\"\""
   ]
  },
  {
   "cell_type": "code",
   "execution_count": 7,
   "metadata": {},
   "outputs": [
    {
     "data": {
      "text/plain": [
       "True"
      ]
     },
     "execution_count": 7,
     "metadata": {},
     "output_type": "execute_result"
    }
   ],
   "source": [
    "def all_unique_chars(string):\n",
    "    \n",
    "    str = string.lower()\n",
    "    uniq_char = 0\n",
    "    for i, _ in enumerate(string):\n",
    "        for j in range(i + 1, len(str)):\n",
    "            #print(j)\n",
    "            if str[i] == str[j]:\n",
    "                uniq_char = 1\n",
    "\n",
    "    if uniq_char == 1:\n",
    "        return False\n",
    "    else:\n",
    "        return True\n",
    "\n",
    "string = \"qwr#!\"\n",
    "all_unique_chars(string)"
   ]
  },
  {
   "cell_type": "markdown",
   "metadata": {},
   "source": [
    "\n",
    "    Write a function that takes a square matrix of integers and returns a set of all valid\n",
    "    positions (i,j) of a value. Each position should be returned as a tuple of two\n",
    "    integers.\n",
    "\n",
    "    The matrix is structured in the following way:\n",
    "    - each row has strictly decreasing values with the column index increasing\n",
    "    - each column has strictly decreasing values with the row index increasing\n",
    "    The following matrix is an example:\n",
    "\n",
    "    Example 1 :\n",
    "    mat = [ [10, 7, 5],\n",
    "            [ 9, 4, 2],\n",
    "            [ 5, 2, 1] ]\n",
    "    find_element(mat, 4) --> {(1, 1)}\n",
    "\n",
    "    Example 2 :\n",
    "    mat = [ [10, 7, 5],\n",
    "            [ 9, 4, 2],\n",
    "            [ 5, 2, 1] ]\n",
    "    find_element(mat, 5) --> {(0, 2), (2, 0)}\n",
    "\n",
    "    The function should raise an exception ValueError if the value isn't found.\n",
    "\n",
    "    :param sq_mat: the square input matrix with decreasing rows and columns\n",
    "    :type sq_mat:  numpy.array of int\n",
    "    :param val:    the value to be found in the matrix\n",
    "    :type val:     int\n",
    "    :return:       all positions of the value in the matrix\n",
    "    :rtype:        set of tuple of int\n",
    "    :raise ValueError:\n"
   ]
  },
  {
   "cell_type": "code",
   "execution_count": 8,
   "metadata": {},
   "outputs": [
    {
     "data": {
      "text/plain": [
       "{(1, 1)}"
      ]
     },
     "execution_count": 8,
     "metadata": {},
     "output_type": "execute_result"
    }
   ],
   "source": [
    "def find_element(sq_mat, val):\n",
    "\n",
    "    index_val = np.where(sq_mat == val)\n",
    "    result = set(zip(index_val[0], index_val[1]))\n",
    "    if result:\n",
    "        return result\n",
    "    else:\n",
    "        raise ValueError('Value is not found')\n",
    "\n",
    "sq_mat = np.array([[10, 7, 5], [9, 4, 2], [5, 2, 1]])\n",
    "val = 4\n",
    "find_element(sq_mat, val)"
   ]
  },
  {
   "cell_type": "markdown",
   "metadata": {},
   "source": [
    "\n",
    "    Write a function that takes an n x p matrix of integers and sets the rows\n",
    "    and columns of every zero-entry to zero.\n",
    "\n",
    "    Example:\n",
    "    [ [1, 2, 3, 1],        [ [0, 2, 0, 1],\n",
    "      [5, 2, 0, 2],   -->    [0, 0, 0, 0],\n",
    "      [0, 1, 3, 3] ]         [0, 0, 0, 0] ]\n",
    "\n",
    "    :param mat: input matrix\n",
    "    :type mat:  numpy.array of int\n",
    "    :return:   a matrix where rows and columns of zero entries in mat are zero\n",
    "    :rtype:    numpy.array\n"
   ]
  },
  {
   "cell_type": "code",
   "execution_count": 9,
   "metadata": {},
   "outputs": [
    {
     "data": {
      "text/plain": [
       "array([[0, 2, 0, 1],\n",
       "       [0, 0, 0, 0],\n",
       "       [0, 0, 0, 0]])"
      ]
     },
     "execution_count": 9,
     "metadata": {},
     "output_type": "execute_result"
    }
   ],
   "source": [
    "def filter_matrix(mat):\n",
    "   \n",
    "    if np.any(mat):\n",
    "        find_zero = tuple(np.where(mat == 0))\n",
    "        ind_zero = tuple(zip(find_zero[0], find_zero[1]))\n",
    "        for _, elem in enumerate(ind_zero):\n",
    "            mat[elem[0],:]=0\n",
    "            mat[:,elem[1]]=0\n",
    "            filter_matx = mat\n",
    "        return filter_matx\n",
    "    else:\n",
    "        return mat\n",
    "\n",
    "mat = np.array([[1, 2, 3, 1], [5, 2, 0, 2], [0, 1, 3, 3]])\n",
    "filter_matrix(mat)"
   ]
  },
  {
   "cell_type": "markdown",
   "metadata": {},
   "source": [
    "\n",
    "    Write a function that takes in a list of integers,\n",
    "    finds the sublist of contiguous values with at least one\n",
    "    element that has the largest sum and returns the sum.\n",
    "    If the list is empty, 0 should be returned.\n",
    "\n",
    "    Example:\n",
    "    [-1, 2, 7, -3] --> the sublist with larger sum is [2, 7], the sum is 9.\n",
    "\n",
    "    :param intlist: input list of integers\n",
    "    :type intlist:  list of int\n",
    "    :return:       the largest sum\n",
    "    :rtype:         int\n"
   ]
  },
  {
   "cell_type": "code",
   "execution_count": 10,
   "metadata": {},
   "outputs": [
    {
     "data": {
      "text/plain": [
       "9"
      ]
     },
     "execution_count": 10,
     "metadata": {},
     "output_type": "execute_result"
    }
   ],
   "source": [
    "def largest_sum(intlist):\n",
    "\n",
    "    maxSum = float(\"-inf\")     #Kandane's Algorithm edited\n",
    "    cur_max_sum = 0\n",
    "    if intlist:\n",
    "        for i in intlist:\n",
    "            cur_max_sum = cur_max_sum + i\n",
    "            if cur_max_sum > maxSum :\n",
    "                maxSum = cur_max_sum\n",
    "            if cur_max_sum < 0 :\n",
    "                cur_max_sum = 0\n",
    "        return maxSum\n",
    "    else:\n",
    "        return 0\n",
    "\n",
    "intlist = [-1, 2, 7, -3]\n",
    "largest_sum(intlist)\n"
   ]
  },
  {
   "cell_type": "markdown",
   "metadata": {},
   "source": [
    "## A set of pandas exercises"
   ]
  },
  {
   "cell_type": "code",
   "execution_count": null,
   "metadata": {},
   "outputs": [],
   "source": [
    "import pandas as pd"
   ]
  },
  {
   "cell_type": "markdown",
   "metadata": {},
   "source": [
    "    Write a function that takes a DataFrame with a colum `A` of integers and\n",
    "    filters out the rows which contain the same value as a row above.\n",
    "    Check that the index is right, use reset_index if necessary.\n",
    "\n",
    "    Example:\n",
    "        A   ...            A   ...\n",
    "    ___________        ___________\n",
    "    0 | 1 | ...        0 | 1 | ...\n",
    "    1 | 1 | ...        1 | 0 | ...\n",
    "    2 | 0 | ...  -->   2 | 5 | ...\n",
    "    3 | 5 | ...        3 | 2 | ...\n",
    "    4 | 5 | ...\n",
    "    5 | 5 | ...\n",
    "    6 | 2 | ...\n",
    "    7 | 1 | ...\n",
    "\n",
    "    :param df: input data frame with a column `A`\n",
    "    :type df: pandas.DataFrame\n",
    "    :return: a dataframe where rows have been filtered out\n",
    "    :rtype: pandas.DataFrame\n"
   ]
  },
  {
   "cell_type": "code",
   "execution_count": 11,
   "metadata": {},
   "outputs": [
    {
     "data": {
      "text/html": [
       "<div>\n",
       "<style scoped>\n",
       "    .dataframe tbody tr th:only-of-type {\n",
       "        vertical-align: middle;\n",
       "    }\n",
       "\n",
       "    .dataframe tbody tr th {\n",
       "        vertical-align: top;\n",
       "    }\n",
       "\n",
       "    .dataframe thead th {\n",
       "        text-align: right;\n",
       "    }\n",
       "</style>\n",
       "<table border=\"1\" class=\"dataframe\">\n",
       "  <thead>\n",
       "    <tr style=\"text-align: right;\">\n",
       "      <th></th>\n",
       "      <th>A</th>\n",
       "    </tr>\n",
       "  </thead>\n",
       "  <tbody>\n",
       "    <tr>\n",
       "      <th>0</th>\n",
       "      <td>1</td>\n",
       "    </tr>\n",
       "    <tr>\n",
       "      <th>1</th>\n",
       "      <td>0</td>\n",
       "    </tr>\n",
       "    <tr>\n",
       "      <th>2</th>\n",
       "      <td>5</td>\n",
       "    </tr>\n",
       "    <tr>\n",
       "      <th>3</th>\n",
       "      <td>2</td>\n",
       "    </tr>\n",
       "  </tbody>\n",
       "</table>\n",
       "</div>"
      ],
      "text/plain": [
       "   A\n",
       "0  1\n",
       "1  0\n",
       "2  5\n",
       "3  2"
      ]
     },
     "execution_count": 11,
     "metadata": {},
     "output_type": "execute_result"
    }
   ],
   "source": [
    "def filter_rep(df):\n",
    "    \n",
    "    df_filtered = df.drop_duplicates('A', keep=\"first\")\n",
    "    df_filt = df_filtered.reset_index(drop=True)\n",
    "    return df_filt\n",
    "\n",
    "df = pd.DataFrame({'A': [1, 1, 0, 5, 5, 5, 2, 1]})\n",
    "filter_rep(df)"
   ]
  },
  {
   "cell_type": "markdown",
   "metadata": {},
   "source": [
    "    Given a DataFrame of numeric values, write a function to subtract the row\n",
    "    mean from each element in the row.\n",
    "\n",
    "    Example:\n",
    "        A   B   C                A     B     C\n",
    "    _____________         _____________________\n",
    "    0 | 1 | 5 | 0    -->  0 | -1.0 | 3.0 | -2.0\n",
    "    1 | 2 | 6 | 1         1 | -1.0 | 3.0 | -2.0\n",
    "\n",
    "    :param df: input data frame\n",
    "    :type df:  pandas.DataFrame\n",
    "    :return:  a dataframe where each row is centred\n",
    "    :rtype:   pandas.DataFrame"
   ]
  },
  {
   "cell_type": "code",
   "execution_count": 12,
   "metadata": {},
   "outputs": [
    {
     "data": {
      "text/html": [
       "<div>\n",
       "<style scoped>\n",
       "    .dataframe tbody tr th:only-of-type {\n",
       "        vertical-align: middle;\n",
       "    }\n",
       "\n",
       "    .dataframe tbody tr th {\n",
       "        vertical-align: top;\n",
       "    }\n",
       "\n",
       "    .dataframe thead th {\n",
       "        text-align: right;\n",
       "    }\n",
       "</style>\n",
       "<table border=\"1\" class=\"dataframe\">\n",
       "  <thead>\n",
       "    <tr style=\"text-align: right;\">\n",
       "      <th></th>\n",
       "      <th>A</th>\n",
       "      <th>B</th>\n",
       "      <th>C</th>\n",
       "    </tr>\n",
       "  </thead>\n",
       "  <tbody>\n",
       "    <tr>\n",
       "      <th>0</th>\n",
       "      <td>-1.0</td>\n",
       "      <td>3.0</td>\n",
       "      <td>-2.0</td>\n",
       "    </tr>\n",
       "    <tr>\n",
       "      <th>1</th>\n",
       "      <td>-1.0</td>\n",
       "      <td>3.0</td>\n",
       "      <td>-2.0</td>\n",
       "    </tr>\n",
       "  </tbody>\n",
       "</table>\n",
       "</div>"
      ],
      "text/plain": [
       "     A    B    C\n",
       "0 -1.0  3.0 -2.0\n",
       "1 -1.0  3.0 -2.0"
      ]
     },
     "execution_count": 12,
     "metadata": {},
     "output_type": "execute_result"
    }
   ],
   "source": [
    "def subtract_row_mean(df):\n",
    "\n",
    "    mean = df.mean(axis=1)\n",
    "    subtr = df.sub(mean, axis=0)\n",
    "    return subtr\n",
    "\n",
    "df = pd.DataFrame({'A': [1, 2], 'B': [5, 6], 'C': [0,1]})\n",
    "subtract_row_mean(df)"
   ]
  },
  {
   "cell_type": "markdown",
   "metadata": {},
   "source": [
    "### A set of exercises with matplotlib"
   ]
  },
  {
   "cell_type": "code",
   "execution_count": 13,
   "metadata": {},
   "outputs": [],
   "source": [
    "import matplotlib.pyplot as plt"
   ]
  },
  {
   "cell_type": "markdown",
   "metadata": {},
   "source": [
    "Here is some chemistry data:\n",
    "   Time (decade): 0, 1, 2, 3, 4, 5, 6\n",
    "   CO2 concentration (ppm): 250, 265, 272, 260, 300, 320, 389\n",
    "\n",
    "Create a line graph of CO2 versus time, the line should be a blue dashed line.\n",
    "* The title of the plot should be 'Chemistry data'\n",
    "* The label of the x axis should be 'Time (decade)'\n",
    "* The label of the y axis should be 'CO2 concentration (ppm)'\n"
   ]
  },
  {
   "cell_type": "code",
   "execution_count": 14,
   "metadata": {},
   "outputs": [
    {
     "data": {
      "image/png": "[encoded data removed]",
      "text/plain": [
       "<Figure size 432x288 with 1 Axes>"
      ]
     },
     "metadata": {
      "needs_background": "light"
     },
     "output_type": "display_data"
    }
   ],
   "source": [
    "def draw_co2_plot():\n",
    "    time = np.array([0, 1, 2, 3, 4, 5, 6])\n",
    "    co2 = np.array([250, 265, 272, 260, 300, 320, 389])\n",
    "    plt.plot(time, co2, ls='dashed', color='blue')\n",
    "    plt.title(\"Chemistry data\")\n",
    "    plt.xlabel(\"Time (decade)\")\n",
    "    plt.ylabel(\"CO2 concentration (ppm)\")\n",
    "    plt.show()\n",
    "\n",
    "draw_co2_plot()"
   ]
  },
  {
   "cell_type": "markdown",
   "metadata": {},
   "source": [
    "Plot the following lines on the same plot\n",
    "\n",
    "* y=cos(x) coloured in red with dashed lines\n",
    "* y=x^2 coloured in blue with linewidth 3\n",
    "* y=exp(-x^2) coloured in black\n",
    "\n",
    "Add a legend, title for the x-axis and a title to the curve, the x-axis\n",
    "should range from -4 to 4 (with 50 points) and the y axis should range\n",
    "from 0 to 2. The figure should have a size of 8x6 inches."
   ]
  },
  {
   "cell_type": "code",
   "execution_count": 15,
   "metadata": {},
   "outputs": [
    {
     "data": {
      "image/png": "[encoded data removed]",
      "text/plain": [
       "<Figure size 576x432 with 1 Axes>"
      ]
     },
     "metadata": {
      "needs_background": "light"
     },
     "output_type": "display_data"
    }
   ],
   "source": [
    "def draw_equations_plot():\n",
    "    x = np.linspace(- 4, 4, 50)\n",
    "    y_1 = np.cos(x)\n",
    "    y_2 = x**2\n",
    "    y_3 = np.exp(-x**2)\n",
    "    plt.figure(figsize=(8, 6))\n",
    "    plt.plot(x, y_1, ls='dashed', color='red', label='y_1')\n",
    "    plt.plot(x, y_2, color='blue', linewidth=3, label='y_2')\n",
    "    plt.plot(x, y_3, color='black', label='y_3')\n",
    "    plt.legend()\n",
    "    plt.title(\"Visualising equations\", fontsize=14)\n",
    "    plt.xlabel(\"x-axis\")\n",
    "    plt.ylabel(\"y-axis\")\n",
    "    plt.xlim(-4, 4)\n",
    "    plt.ylim(0, 2)\n",
    "    plt.show()\n",
    "    \n",
    "draw_equations_plot()"
   ]
  }
 ],
 "metadata": {
  "kernelspec": {
   "display_name": "Python 3",
   "language": "python",
   "name": "python3"
  },
  "language_info": {
   "codemirror_mode": {
    "name": "ipython",
    "version": 3
   },
   "file_extension": ".py",
   "mimetype": "text/x-python",
   "name": "python",
   "nbconvert_exporter": "python",
   "pygments_lexer": "ipython3",
   "version": "3.7.8"
  }
 },
 "nbformat": 4,
 "nbformat_minor": 4
}
